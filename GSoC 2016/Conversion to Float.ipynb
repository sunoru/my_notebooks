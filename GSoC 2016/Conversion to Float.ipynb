{
 "cells": [
  {
   "cell_type": "code",
   "execution_count": 1,
   "metadata": {
    "collapsed": false
   },
   "outputs": [
    {
     "name": "stdout",
     "output_type": "stream",
     "text": [
      "Julia Version 0.5.0-rc0+0\n",
      "Commit 633443c (2016-08-02 00:53 UTC)\n",
      "Platform Info:\n",
      "  System: Linux (x86_64-redhat-linux)\n",
      "  CPU: Intel(R) Core(TM) i5-3470 CPU @ 3.20GHz\n",
      "  WORD_SIZE: 64\n",
      "  BLAS: libopenblas (USE64BITINT DYNAMIC_ARCH NO_AFFINITY Sandybridge)\n",
      "  LAPACK: libopenblas64_\n",
      "  LIBM: libopenlibm\n",
      "  LLVM: libLLVM-3.7.1 (ORCJIT, ivybridge)\n"
     ]
    }
   ],
   "source": [
    "versioninfo()"
   ]
  },
  {
   "cell_type": "code",
   "execution_count": 2,
   "metadata": {
    "collapsed": false
   },
   "outputs": [
    {
     "data": {
      "text/plain": [
       "f1 (generic function with 1 method)"
      ]
     },
     "execution_count": 2,
     "metadata": {},
     "output_type": "execute_result"
    }
   ],
   "source": [
    "import Base: significand_mask, exponent_one\n",
    "f1(u::UInt64) = reinterpret(Float64, exponent_one(Float64) | significand_mask(Float64) & u) - 1.0\n",
    "# use the least 52 bits to generate uniform distribution in [1, 2). And then substracted by 1.0."
   ]
  },
  {
   "cell_type": "code",
   "execution_count": 3,
   "metadata": {
    "collapsed": false
   },
   "outputs": [
    {
     "data": {
      "text/plain": [
       "f2 (generic function with 1 method)"
      ]
     },
     "execution_count": 3,
     "metadata": {},
     "output_type": "execute_result"
    }
   ],
   "source": [
    "import Base: llvmcall\n",
    "@inline cttz(x::UInt64) = llvmcall(\n",
    "    (\"\"\"declare i64 @llvm.cttz.i64(i64, i1)\"\"\",\n",
    "     \"\"\"%2 = call i64 @llvm.cttz.i64(i64 %0, i1 false)\n",
    "     ret i64 %2\"\"\"), Int64, Tuple{UInt64}, x)\n",
    "\n",
    "\n",
    "function f2(u::UInt64)\n",
    "    u &= 0x001f_ffff_ffff_ffff\n",
    "    p = cttz(u)\n",
    "    if p == 64\n",
    "        return 0.0\n",
    "    end\n",
    "    m = (u >> (p + 1)) << p\n",
    "    ldexp(0x1p52 + m, -53 - p)\n",
    "end"
   ]
  },
  {
   "cell_type": "markdown",
   "metadata": {},
   "source": [
    "See https://github.com/art4711/random-double/issues/2"
   ]
  },
  {
   "cell_type": "code",
   "execution_count": 4,
   "metadata": {
    "collapsed": false
   },
   "outputs": [
    {
     "data": {
      "text/plain": [
       "test_speed2 (generic function with 1 method)"
      ]
     },
     "execution_count": 4,
     "metadata": {},
     "output_type": "execute_result"
    }
   ],
   "source": [
    "function test_speed(f, a)\n",
    "    n = length(a)\n",
    "    s = 0.0\n",
    "    for i = 1:n\n",
    "        s += f(a[i])\n",
    "    end\n",
    "    s\n",
    "end\n",
    "test_speed1(a) = test_speed(f1, a)\n",
    "test_speed2(a) = test_speed(f2, a)"
   ]
  },
  {
   "cell_type": "code",
   "execution_count": 5,
   "metadata": {
    "collapsed": true
   },
   "outputs": [],
   "source": [
    "a = rand(UInt64, 10_000_000);"
   ]
  },
  {
   "cell_type": "code",
   "execution_count": 6,
   "metadata": {
    "collapsed": false
   },
   "outputs": [
    {
     "data": {
      "text/plain": [
       "4.999896374054646e6"
      ]
     },
     "execution_count": 6,
     "metadata": {},
     "output_type": "execute_result"
    }
   ],
   "source": [
    "test_speed1(a)"
   ]
  },
  {
   "cell_type": "code",
   "execution_count": 7,
   "metadata": {
    "collapsed": false
   },
   "outputs": [
    {
     "data": {
      "text/plain": [
       "5.000988653906729e6"
      ]
     },
     "execution_count": 7,
     "metadata": {},
     "output_type": "execute_result"
    }
   ],
   "source": [
    "test_speed2(a)"
   ]
  },
  {
   "cell_type": "code",
   "execution_count": 8,
   "metadata": {
    "collapsed": false
   },
   "outputs": [
    {
     "data": {
      "text/plain": [
       "4.99880648324499e6"
      ]
     },
     "execution_count": 8,
     "metadata": {},
     "output_type": "execute_result"
    }
   ],
   "source": [
    "f3(x::UInt64) = x * 0x1p-64\n",
    "test_speed3(a) = test_speed(f3, a)\n",
    "test_speed3(a)"
   ]
  },
  {
   "cell_type": "code",
   "execution_count": 9,
   "metadata": {
    "collapsed": false,
    "scrolled": true
   },
   "outputs": [
    {
     "data": {
      "text/plain": [
       "4.99880648324499e6"
      ]
     },
     "execution_count": 9,
     "metadata": {},
     "output_type": "execute_result"
    }
   ],
   "source": [
    "f4(x::UInt64) = (x >> 11) * 0x1p-53\n",
    "test_speed4(a) = test_speed(f4, a)\n",
    "test_speed4(a)"
   ]
  },
  {
   "cell_type": "code",
   "execution_count": 10,
   "metadata": {
    "collapsed": false,
    "scrolled": true
   },
   "outputs": [
    {
     "data": {
      "text/plain": [
       "5.001171687027291e6"
      ]
     },
     "execution_count": 10,
     "metadata": {},
     "output_type": "execute_result"
    }
   ],
   "source": [
    "f5(x::UInt64) = (x & 0x001f_ffff_ffff_ffff) * 0x1p-53\n",
    "test_speed5(a) = test_speed(f5, a)\n",
    "test_speed5(a)"
   ]
  },
  {
   "cell_type": "code",
   "execution_count": 11,
   "metadata": {
    "collapsed": false
   },
   "outputs": [
    {
     "name": "stdout",
     "output_type": "stream",
     "text": [
      "  0.010534 seconds (134 allocations: 7.719 KB)\n",
      "  0.108693 seconds (5 allocations: 176 bytes)\n",
      "  0.014659 seconds (5 allocations: 176 bytes)\n",
      "  0.032913 seconds (5 allocations: 176 bytes)\n",
      "  0.031085 seconds (5 allocations: 176 bytes)\n"
     ]
    },
    {
     "data": {
      "text/plain": [
       "5.001171687027291e6"
      ]
     },
     "execution_count": 11,
     "metadata": {},
     "output_type": "execute_result"
    }
   ],
   "source": [
    "@time test_speed1(a)\n",
    "@time test_speed2(a)\n",
    "@time test_speed3(a)\n",
    "@time test_speed4(a)\n",
    "@time test_speed5(a)"
   ]
  },
  {
   "cell_type": "code",
   "execution_count": 12,
   "metadata": {
    "collapsed": false
   },
   "outputs": [
    {
     "name": "stdout",
     "output_type": "stream",
     "text": [
      "  0.016655 seconds (5 allocations: 176 bytes)\n"
     ]
    },
    {
     "data": {
      "text/plain": [
       "4.9397543e-317"
      ]
     },
     "execution_count": 12,
     "metadata": {},
     "output_type": "execute_result"
    }
   ],
   "source": [
    "foo1(x) = reinterpret(Float64, cttz(x))\n",
    "bar1(a) = test_speed(foo1, a)\n",
    "bar1(a)\n",
    "@time bar1(a)"
   ]
  },
  {
   "cell_type": "markdown",
   "metadata": {},
   "source": [
    "The `cttz` function just takes more time than f1 (even more than f3)..."
   ]
  },
  {
   "cell_type": "markdown",
   "metadata": {},
   "source": [
    "The C program is also slow:\n",
    "```zsh\n",
    "Glaceon ➜  build git:(master) ✗ gcc r0to1.c -lbsd -O3 -DN=100000000 -o r0to1.out && ./r0to1.out\n",
    "4039.254000 ms\n",
    "792.179000 ms\n",
    "50001405.769910\n",
    "\n",
    "Glaceon ➜  build git:(master) ✗ clang r0to1.c -lbsd -O3 -DN=100000000 -o r0to1.out && ./r0to1.out\n",
    "3886.342000 ms\n",
    "929.665000 ms\n",
    "49998428.474505\n",
    "```\n",
    "The first elapsed time value denotes to the time to generate random numbers by `arc4random_buf`. The second is the time to do `r0to1(a)`. It's just a little faster than the Julia functions.\n",
    "BTW, the time performance of PCG is:\n",
    "```julia\n",
    "julia> using RNG.PCG\n",
    "\n",
    "julia> r = PCGStateSetseq(UInt128, RNG.PCG.PCG_XSH_RS);\n",
    "\n",
    "julia> a = Array{UInt64}(100_000_000);\n",
    "\n",
    "julia> @time rand!(r, a);\n",
    "  0.383423 seconds (4 allocations: 160 bytes)\n",
    "\n",
    "julia> foo(r) = rand(r, UInt64) & ((1 << 53) - 1)\n",
    "foo (generic function with 1 method)\n",
    "\n",
    "julia> bar(r, a) = for i = 1:length(a)\n",
    "           @inbounds a[i] = foo(r)\n",
    "       end\n",
    "bar (generic function with 1 method)\n",
    "\n",
    "julia> @time bar(r, a);\n",
    "  0.464137 seconds (4 allocations: 160 bytes)\n",
    "```"
   ]
  },
  {
   "cell_type": "code",
   "execution_count": null,
   "metadata": {
    "collapsed": true
   },
   "outputs": [],
   "source": []
  }
 ],
 "metadata": {
  "kernelspec": {
   "display_name": "Julia 0.5.0-rc0",
   "language": "julia",
   "name": "julia-0.5"
  },
  "language_info": {
   "file_extension": ".jl",
   "mimetype": "application/julia",
   "name": "julia",
   "version": "0.5.0"
  }
 },
 "nbformat": 4,
 "nbformat_minor": 0
}
