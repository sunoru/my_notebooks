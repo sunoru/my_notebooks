{
 "cells": [
  {
   "cell_type": "markdown",
   "metadata": {},
   "source": [
    "## Desirable properties"
   ]
  },
  {
   "cell_type": "markdown",
   "metadata": {},
   "source": [
    "Ref: http://www.pcg-random.org/pdf/toms-oneill-pcg-family-v1.02.pdf"
   ]
  },
  {
   "cell_type": "markdown",
   "metadata": {},
   "source": [
    "### Statistical Qualities \n",
    "#### Theory: Period & Uniformity \n",
    "#### Practice: Empirical Testing, and Preexisting Generators\n",
    "\n",
    "TestU01\n",
    "![TestU01](files/testu01.png)"
   ]
  },
  {
   "cell_type": "markdown",
   "metadata": {},
   "source": [
    "### Predicability, Repeatability, and Security\n",
    "- Random Seed"
   ]
  },
  {
   "cell_type": "markdown",
   "metadata": {
    "slideshow": {
     "slide_type": "-"
    }
   },
   "source": [
    "### Speed\n",
    "- Outputting half as many bits could be seen as halving their speed.\n",
    "    \n",
    "    Time performance\n",
    "    ![Time performance](files/time_performance.png)"
   ]
  },
  {
   "cell_type": "markdown",
   "metadata": {},
   "source": [
    "### Space, Period, and Output Range\n",
    "\n",
    "![Space performance](files/space_usage.png)\n",
    "\n",
    "#### The Effect of Period on Output Range and Uniformity\n",
    "\n",
    "- Using power-of-two period makes it trival to have a uniform power-of-two output range.\n",
    "- A non-power-of-two output range or period can add challenges. For example, MRG32k3a has an output modulus of $2^32-209$, making it ill-suited for generating 32-bit integers. However such issues need not be a fatal flaw.\n",
    "\n",
    "#### The Necessity of a “Large Enough” State Space and Period\n",
    "\n",
    "- It's undesirable to have a generator repeat itself while in use.\n",
    "- Even a period as \"small\" as $2^56$ would take a single CPU core more than two years to iterate through at one number per nanosecond.\n",
    "- Long periods are sometimes advocated to support multiple random-number streams.\n",
    "\n",
    "#### The importance of Code Size\n",
    "\n",
    "        "
   ]
  },
  {
   "cell_type": "markdown",
   "metadata": {},
   "source": []
  },
  {
   "cell_type": "code",
   "execution_count": null,
   "metadata": {
    "collapsed": true
   },
   "outputs": [],
   "source": []
  }
 ],
 "metadata": {
  "kernelspec": {
   "display_name": "Julia 0.5.0-dev",
   "language": "julia",
   "name": "julia-0.5"
  },
  "language_info": {
   "file_extension": ".jl",
   "mimetype": "application/julia",
   "name": "julia",
   "version": "0.5.0"
  }
 },
 "nbformat": 4,
 "nbformat_minor": 0
}
