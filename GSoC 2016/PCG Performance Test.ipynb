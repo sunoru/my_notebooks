{
 "cells": [
  {
   "cell_type": "code",
   "execution_count": 1,
   "metadata": {
    "collapsed": false
   },
   "outputs": [
    {
     "name": "stderr",
     "output_type": "stream",
     "text": [
      "INFO: Recompiling stale cache file /home/sunoru/.julia/lib/v0.4/RNG.ji for module RNG.\n"
     ]
    }
   ],
   "source": [
    "using RNG.PCG"
   ]
  },
  {
   "cell_type": "code",
   "execution_count": 2,
   "metadata": {
    "collapsed": false
   },
   "outputs": [
    {
     "data": {
      "text/plain": [
       "RNG.PCG.PCGStateSetseq{UInt16,Val{:XSH_RS},UInt8}(0xf549,0x0283)"
      ]
     },
     "execution_count": 2,
     "metadata": {},
     "output_type": "execute_result"
    }
   ],
   "source": [
    "r128 = PCGStateSetseq(UInt128, PCG_XSH_RS, 123 % UInt128, 321 % UInt128)\n",
    "r64  = PCGStateSetseq(UInt64, PCG_XSH_RS, 123 % UInt64, 321 % UInt64)\n",
    "r32  = PCGStateSetseq(UInt32, PCG_XSH_RS, 123 % UInt32, 321 % UInt32)\n",
    "r16  = PCGStateSetseq(UInt16, PCG_XSH_RS, 123 % UInt16, 321 % UInt16)"
   ]
  },
  {
   "cell_type": "code",
   "execution_count": 6,
   "metadata": {
    "collapsed": false
   },
   "outputs": [
    {
     "data": {
      "text/plain": [
       "test_period (generic function with 1 method)"
      ]
     },
     "execution_count": 6,
     "metadata": {},
     "output_type": "execute_result"
    }
   ],
   "source": [
    "function test_period(r, T)\n",
    "    start_state = r.state\n",
    "    rand(r, T)\n",
    "    i = 1 % UInt128\n",
    "    while r.state != start_state\n",
    "        rand(r, T)\n",
    "        i += 1\n",
    "    end\n",
    "    i\n",
    "end"
   ]
  },
  {
   "cell_type": "code",
   "execution_count": 7,
   "metadata": {
    "collapsed": false
   },
   "outputs": [
    {
     "data": {
      "text/plain": [
       "0x00000000000000000000000000010000"
      ]
     },
     "execution_count": 7,
     "metadata": {},
     "output_type": "execute_result"
    }
   ],
   "source": [
    "test_period(r16, UInt8)"
   ]
  },
  {
   "cell_type": "code",
   "execution_count": 8,
   "metadata": {
    "collapsed": false
   },
   "outputs": [
    {
     "data": {
      "text/plain": [
       "0x00000000000000000000000100000000"
      ]
     },
     "execution_count": 8,
     "metadata": {},
     "output_type": "execute_result"
    }
   ],
   "source": [
    "test_period(r32, UInt16)"
   ]
  },
  {
   "cell_type": "code",
   "execution_count": null,
   "metadata": {
    "collapsed": true
   },
   "outputs": [],
   "source": [
    "test_period(r64, UInt32)"
   ]
  },
  {
   "cell_type": "code",
   "execution_count": null,
   "metadata": {
    "collapsed": true
   },
   "outputs": [],
   "source": []
  }
 ],
 "metadata": {
  "kernelspec": {
   "display_name": "Julia 0.4.5",
   "language": "julia",
   "name": "julia-0.4"
  },
  "language_info": {
   "file_extension": ".jl",
   "mimetype": "application/julia",
   "name": "julia",
   "version": "0.4.5"
  }
 },
 "nbformat": 4,
 "nbformat_minor": 0
}
