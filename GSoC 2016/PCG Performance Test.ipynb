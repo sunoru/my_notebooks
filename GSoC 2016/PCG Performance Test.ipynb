{
 "cells": [
  {
   "cell_type": "code",
   "execution_count": 1,
   "metadata": {
    "collapsed": true
   },
   "outputs": [],
   "source": [
    "using RNG.PCG"
   ]
  },
  {
   "cell_type": "code",
   "execution_count": 2,
   "metadata": {
    "collapsed": false
   },
   "outputs": [
    {
     "data": {
      "text/plain": [
       "RNG.PCG.PermutedCongruentialGenerator{RNG.PCG.PCGStateSetseq{StateUIntType<:Union{UInt128,UInt16,UInt32,UInt64,UInt8},MethodType<:Union{Val{:RXS_M_XS},Val{:XSH_RR},Val{:XSH_RS},Val{:XSL_RR_RR},Val{:XSL_RR}}},Val{:XSH_RS},UInt64,UInt32}(RNG.PCG.PCGStateSetseq{UInt64,Val{:XSH_RS}}(0x185706b82c2e03f8,0x000000000000006d))"
      ]
     },
     "execution_count": 2,
     "metadata": {},
     "output_type": "execute_result"
    }
   ],
   "source": [
    "r = PermutedCongruentialGenerator(PCGStateSetseq, PCG_XSH_RS, UInt64)\n",
    "srand(r, (42 % UInt64, 54 % UInt64))"
   ]
  },
  {
   "cell_type": "code",
   "execution_count": 3,
   "metadata": {
    "collapsed": false
   },
   "outputs": [
    {
     "data": {
      "text/plain": [
       "0x5c1b65c0"
      ]
     },
     "execution_count": 3,
     "metadata": {},
     "output_type": "execute_result"
    }
   ],
   "source": [
    "rand(r, UInt32)"
   ]
  },
  {
   "cell_type": "code",
   "execution_count": 4,
   "metadata": {
    "collapsed": false
   },
   "outputs": [
    {
     "data": {
      "text/plain": [
       "0x8ffceb31"
      ]
     },
     "execution_count": 4,
     "metadata": {},
     "output_type": "execute_result"
    }
   ],
   "source": [
    "rand(r, UInt32)"
   ]
  },
  {
   "cell_type": "code",
   "execution_count": 5,
   "metadata": {
    "collapsed": false
   },
   "outputs": [
    {
     "data": {
      "text/plain": [
       "0xcccad075"
      ]
     },
     "execution_count": 5,
     "metadata": {},
     "output_type": "execute_result"
    }
   ],
   "source": [
    "rand(r, UInt32)"
   ]
  },
  {
   "cell_type": "code",
   "execution_count": 6,
   "metadata": {
    "collapsed": false
   },
   "outputs": [
    {
     "data": {
      "text/plain": [
       "0xb83cdfc6"
      ]
     },
     "execution_count": 6,
     "metadata": {},
     "output_type": "execute_result"
    }
   ],
   "source": [
    "rand(r, UInt32)"
   ]
  },
  {
   "cell_type": "code",
   "execution_count": 7,
   "metadata": {
    "collapsed": false
   },
   "outputs": [
    {
     "data": {
      "text/plain": [
       "0x5dfce9ca"
      ]
     },
     "execution_count": 7,
     "metadata": {},
     "output_type": "execute_result"
    }
   ],
   "source": [
    "rand(r, UInt32)"
   ]
  },
  {
   "cell_type": "code",
   "execution_count": 9,
   "metadata": {
    "collapsed": false
   },
   "outputs": [
    {
     "data": {
      "text/plain": [
       "UInt64"
      ]
     },
     "execution_count": 9,
     "metadata": {},
     "output_type": "execute_result"
    }
   ],
   "source": [
    "x = UInt64(123)\n",
    "y = UInt128(3)\n",
    "typeof(x >> y)"
   ]
  },
  {
   "cell_type": "markdown",
   "metadata": {},
   "source": [
    "```julia\n",
    "julia> r1 = PermutedCongruentialGenerator(PCGStateSetseq, PCG_XSH_RR, UInt64);\n",
    "\n",
    "julia> srand(r1, (42 % UInt64, 54 % UInt64));\n",
    "\n",
    "julia> rand(r1, UInt32)\n",
    "0xa15c02b7\n",
    "\n",
    "julia> rand(r1, UInt32)\n",
    "0x7b47f409\n",
    "\n",
    "julia> rand(r1, UInt32)\n",
    "0xba1d3330\n",
    "\n",
    "julia> rand(r1, UInt32)\n",
    "0x83d2f293\n",
    "\n",
    "julia> rand(r1, UInt32)\n",
    "0xbfa4784b\n",
    "```"
   ]
  },
  {
   "cell_type": "code",
   "execution_count": 2,
   "metadata": {
    "collapsed": false
   },
   "outputs": [
    {
     "name": "stdout",
     "output_type": "stream",
     "text": [
      "  0.050197 seconds (9.73 k allocations: 393.121 KB)\n",
      "  0.039161 seconds (7.64 k allocations: 298.200 KB)\n"
     ]
    },
    {
     "name": "stderr",
     "output_type": "stream",
     "text": [
      "WARNING: Method definition rotr(Any, Any) in module Main at In[1]:2 overwritten at In[2]:2.\n",
      "WARNING: Method definition foo(Any, Any) in module Main at In[1]:6 overwritten at In[2]:6.\n",
      "WARNING: Method definition bar(Any, Any) in module Main at In[1]:31 overwritten at In[2]:31.\n"
     ]
    },
    {
     "data": {
      "text/plain": [
       "0xc616b135"
      ]
     },
     "execution_count": 2,
     "metadata": {},
     "output_type": "execute_result"
    }
   ],
   "source": [
    "@inline function rotr(x,y)\n",
    "    s = sizeof(x) << 3\n",
    "    (x >> (y % s)) | (x << (-y % s))\n",
    "end\n",
    "function foo(state, n)   \n",
    "    s = sizeof(state) << 3\n",
    "    t = trailing_zeros(s)-1 # log2(s)-1\n",
    "    p1 = (s>>1 + t)>>1\n",
    "    p2 = s>>1 - t\n",
    "    p3 = s-t\n",
    "    \n",
    "    y = UInt32(0)\n",
    "    for i = 1:n\n",
    "        x = rotr(\n",
    "                 (((state >> p1) $ state) >> p2) % UInt32,\n",
    "                 (state >> p3) % UInt32\n",
    "                 )        \n",
    "\n",
    "        state = state * 0x5851f42d4c957f2d + 0x000000000000006d\n",
    "\n",
    "        y += x\n",
    "    end\n",
    "    return y\n",
    "end\n",
    "@time foo(0x185706b82c2e03f8, 10_000_000)\n",
    "\n",
    "\n",
    "using RNG.PCG\n",
    "\n",
    "function bar(state, n)\n",
    "    y = UInt32(0)\n",
    "    for i = 1:n\n",
    "        y += RNG.PCG.pcg_output(state, PCG_XSH_RR)\n",
    "        state = state * 0x5851f42d4c957f2d + 0x000000000000006d\n",
    "    end\n",
    "    y\n",
    "end\n",
    "\n",
    "@time bar(0x185706b82c2e03f8,10_000_000)"
   ]
  },
  {
   "cell_type": "code",
   "execution_count": null,
   "metadata": {
    "collapsed": true
   },
   "outputs": [],
   "source": []
  }
 ],
 "metadata": {
  "kernelspec": {
   "display_name": "Julia 0.5.0-dev",
   "language": "julia",
   "name": "julia-0.5"
  },
  "language_info": {
   "file_extension": ".jl",
   "mimetype": "application/julia",
   "name": "julia",
   "version": "0.5.0"
  }
 },
 "nbformat": 4,
 "nbformat_minor": 0
}
