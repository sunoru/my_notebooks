{
 "cells": [
  {
   "cell_type": "code",
   "execution_count": 2,
   "metadata": {
    "collapsed": false
   },
   "outputs": [
    {
     "data": {
      "text/plain": [
       "Test Passed\n",
       "  Expression: doubly_declared_floor(4.2) ≈ 4.0\n",
       "   Evaluated: 4.0 isapprox 4.0"
      ]
     },
     "execution_count": 2,
     "metadata": {},
     "output_type": "execute_result"
    },
    {
     "name": "stderr",
     "output_type": "stream",
     "text": [
      "WARNING: Base.ASCIIString is deprecated, use String instead.\n",
      "  likely near /home/sunoru/.julia/v0.5/IJulia/src/kernel.jl:31\n",
      "WARNING: Base.ByteString is deprecated, use String instead.\n",
      "  likely near /home/sunoru/.julia/v0.5/IJulia/src/kernel.jl:31\n",
      "WARNING: Base.writemime is deprecated.\n",
      "  likely near /home/sunoru/.julia/v0.5/IJulia/src/kernel.jl:31\n",
      "WARNING: Base.ASCIIString is deprecated, use String instead.\n",
      "  likely near /home/sunoru/.julia/v0.5/IJulia/src/kernel.jl:31\n",
      "WARNING: Base.ByteString is deprecated, use String instead.\n",
      "  likely near /home/sunoru/.julia/v0.5/IJulia/src/kernel.jl:31\n",
      "WARNING: Base.writemime is deprecated.\n",
      "  likely near /home/sunoru/.julia/v0.5/IJulia/src/kernel.jl:31\n",
      "WARNING: Base.writemime is deprecated.\n",
      "  likely near /home/sunoru/.julia/v0.5/IJulia/src/kernel.jl:31\n",
      "WARNING: Base.writemime is deprecated.\n",
      "  likely near /home/sunoru/.julia/v0.5/IJulia/src/kernel.jl:31\n",
      "WARNING: Base.ASCIIString is deprecated, use String instead.\n",
      "  likely near /home/sunoru/.julia/v0.5/IJulia/src/kernel.jl:31\n",
      "WARNING: Base.ByteString is deprecated, use String instead.\n",
      "  likely near /home/sunoru/.julia/v0.5/IJulia/src/kernel.jl:31\n",
      "WARNING: Base.writemime is deprecated.\n",
      "  likely near /home/sunoru/.julia/v0.5/IJulia/src/kernel.jl:31\n",
      "in display_dict at /home/sunoru/.julia/v0.5/IJulia/src/execute_request.jl\n"
     ]
    }
   ],
   "source": [
    "using Base.llvmcall\n",
    "using Base.Test\n",
    "function doubly_declared_floor(x::Float64)\n",
    "    llvmcall(\n",
    "        (\"\"\"declare double @llvm.floor.f64(double)\"\"\",\n",
    "         \"\"\"%2 = call double @llvm.floor.f64(double %0)\n",
    "            ret double %2\"\"\"),\n",
    "    Float64, Tuple{Float64}, x+1)-1\n",
    "end\n",
    "@test doubly_declared_floor(4.2) ≈ 4."
   ]
  },
  {
   "cell_type": "code",
   "execution_count": 4,
   "metadata": {
    "collapsed": false
   },
   "outputs": [
    {
     "name": "stdout",
     "output_type": "stream",
     "text": [
      "7161677106674623331\n"
     ]
    },
    {
     "name": "stderr",
     "output_type": "stream",
     "text": [
      "WARNING: Method definition foo(UInt64) in module Main at In[3]:2 overwritten at In[4]:2.\n"
     ]
    }
   ],
   "source": [
    "function foo(x::UInt64)\n",
    "    llvmcall((\"\"\"declare i64 @llvm.x86.aesni.aeskeygenassist(i64, i64)\"\"\",\"\"\"\n",
    "    %2 = call i64 @llvm.x86.aesni.aeskeygenassist(i64 %0, i64 1)\n",
    "        ret i64 %2\"\"\"), UInt64, Tuple{UInt64}, x)\n",
    "end\n",
    "\n",
    "x = UInt64(1)\n",
    "\n",
    "println(foo(x))"
   ]
  },
  {
   "cell_type": "code",
<<<<<<< Updated upstream
   "execution_count": 2,
=======
   "execution_count": 1,
>>>>>>> Stashed changes
   "metadata": {
    "collapsed": false
   },
   "outputs": [
    {
     "name": "stderr",
     "output_type": "stream",
     "text": [
<<<<<<< Updated upstream
      "WARNING: Method definition aesenc(Any, Any) in module Main at In[1]:2 overwritten at In[2]:2.\n"
=======
      "WARNING: Base.writemime is deprecated.\n",
      "  likely near /opt/julia_packages/.julia/v0.5/IJulia/src/kernel.jl:31\n",
      "WARNING: Base.writemime is deprecated.\n",
      "  likely near /opt/julia_packages/.julia/v0.5/IJulia/src/kernel.jl:31\n",
      "WARNING: Base.writemime is deprecated.\n",
      "  likely near /opt/julia_packages/.julia/v0.5/IJulia/src/kernel.jl:31\n",
      "WARNING: Base.writemime is deprecated.\n",
      "  likely near /opt/julia_packages/.julia/v0.5/IJulia/src/kernel.jl:31\n"
>>>>>>> Stashed changes
     ]
    },
    {
     "data": {
      "text/plain": [
<<<<<<< Updated upstream
       "aesenc"
      ]
     },
     "execution_count": 2,
=======
       "\"/home/juser/notes/GSoC 2016\""
      ]
     },
     "execution_count": 1,
>>>>>>> Stashed changes
     "metadata": {},
     "output_type": "execute_result"
    },
    {
     "name": "stderr",
     "output_type": "stream",
     "text": [
<<<<<<< Updated upstream
      "WARNING: Base.ASCIIString is deprecated, use String instead.\n",
      "  likely near /home/sunoru/.julia/v0.5/IJulia/src/kernel.jl:31\n",
      "WARNING: Base.ByteString is deprecated, use String instead.\n",
      "  likely near /home/sunoru/.julia/v0.5/IJulia/src/kernel.jl:31\n",
      "WARNING: Base.writemime is deprecated.\n",
      "  likely near /home/sunoru/.julia/v0.5/IJulia/src/kernel.jl:31\n",
      "WARNING: Base.ASCIIString is deprecated, use String instead.\n",
      "  likely near /home/sunoru/.julia/v0.5/IJulia/src/kernel.jl:31\n",
      "WARNING: Base.ByteString is deprecated, use String instead.\n",
      "  likely near /home/sunoru/.julia/v0.5/IJulia/src/kernel.jl:31\n",
      "WARNING: Base.writemime is deprecated.\n",
      "  likely near /home/sunoru/.julia/v0.5/IJulia/src/kernel.jl:31\n",
      "WARNING: Base.writemime is deprecated.\n",
      "  likely near /home/sunoru/.julia/v0.5/IJulia/src/kernel.jl:31\n",
      "WARNING: Base.writemime is deprecated.\n",
      "  likely near /home/sunoru/.julia/v0.5/IJulia/src/kernel.jl:31\n",
      "WARNING: Base.ASCIIString is deprecated, use String instead.\n",
      "  likely near /home/sunoru/.julia/v0.5/IJulia/src/kernel.jl:31\n",
      "WARNING: Base.ByteString is deprecated, use String instead.\n",
      "  likely near /home/sunoru/.julia/v0.5/IJulia/src/kernel.jl:31\n",
      "WARNING: Base.writemime is deprecated.\n",
      "  likely near /home/sunoru/.julia/v0.5/IJulia/src/kernel.jl:31\n",
      "in display_dict at /home/sunoru/.julia/v0.5/IJulia/src/execute_request.jl\n"
     ]
    }
   ],
   "source": [
    "function aesenc(x, y)\n",
    "      Base.llvmcall((\"\"\"declare <2 x i64> @llvm.x86.aesni.aesenc(<2 x i64>, <2 x i64>)\"\"\",\"\"\"\n",
    "          %3 = call <2 x i64> @llvm.x86.aesni.aesenc(<2 x i64> %0, <2 x i64> %1)\n",
    "      ret <2 x i64> %3\"\"\"), NTuple{2,VecElement{UInt64}}, Tuple{NTuple{2,VecElement{UInt64}},NTuple{2,VecElement{UInt64}}}, x, y)\n",
    "  end"
   ]
  },
  {
   "cell_type": "code",
   "execution_count": 4,
   "metadata": {
    "collapsed": false
   },
   "outputs": [
    {
     "name": "stdout",
     "output_type": "stream",
     "text": [
      "(VecElement{UInt64}(0x63636363427c7c5c),VecElement{UInt64}(0x63636363427c7c5c))\n",
      "(VecElement{UInt64}(0x63636363427c7c5c),VecElement{UInt64}(0x636363635f777749))\n"
     ]
    }
   ],
   "source": [
    "println(aesenc((VecElement(1 % UInt64), VecElement(1 % UInt64)), (VecElement(1 % UInt64), VecElement(1 % UInt64))))\n",
    "println(aesenc((VecElement(1 % UInt64), VecElement(2 % UInt64)), (VecElement(1 % UInt64), VecElement(2 % UInt64))))"
   ]
  },
  {
   "cell_type": "code",
   "execution_count": 5,
   "metadata": {
    "collapsed": false
   },
   "outputs": [
    {
     "name": "stdout",
     "output_type": "stream",
     "text": [
      "\n",
      "define <2 x i64> @julia_aesenc_67442(<2 x i64>, <2 x i64>) #0 {\n",
      "top:\n",
      "  %2 = call <2 x i64> @llvm.x86.aesni.aesenc(<2 x i64> %0, <2 x i64> %1)\n",
      "  ret <2 x i64> %2\n",
      "}\n",
      "\t.text\n",
      "Filename: In[2]\n",
      "Source line: 0\n",
      "\tpushq\t%rbp\n",
      "\tmovq\t%rsp, %rbp\n",
      "Source line: 2\n",
      "\tvaesenc\t%xmm1, %xmm0, %xmm0\n",
      "\tpopq\t%rbp\n",
      "\tretq\n",
      "\tnopl\t(%rax,%rax)\n"
     ]
    }
   ],
   "source": [
    "@code_llvm aesenc((VecElement(1 % UInt64), VecElement(1 % UInt64)), (VecElement(1 % UInt64), VecElement(1 % UInt64)))\n",
    "@code_native aesenc((VecElement(1 % UInt64), VecElement(1 % UInt64)), (VecElement(1 % UInt64), VecElement(1 % UInt64)))"
   ]
=======
      "WARNING: Base.writemime is deprecated.\n",
      "  likely near /opt/julia_packages/.julia/v0.5/IJulia/src/kernel.jl:31\n",
      "WARNING: Base.writemime is deprecated.\n",
      "  likely near /opt/julia_packages/.julia/v0.5/IJulia/src/kernel.jl:31\n",
      "WARNING: Base.writemime is deprecated.\n",
      "  likely near /opt/julia_packages/.julia/v0.5/IJulia/src/kernel.jl:31\n",
      "WARNING: Base.writemime is deprecated.\n",
      "  likely near /opt/julia_packages/.julia/v0.5/IJulia/src/kernel.jl:31\n",
      "WARNING: Base.writemime is deprecated.\n",
      "  likely near /opt/julia_packages/.julia/v0.5/IJulia/src/kernel.jl:31\n",
      "in display_dict at /opt/julia_packages/.julia/v0.5/IJulia/src/execute_request.jl\n"
     ]
    }
   ],
   "source": []
>>>>>>> Stashed changes
  },
  {
   "cell_type": "code",
   "execution_count": null,
   "metadata": {
    "collapsed": true
   },
   "outputs": [],
   "source": []
  }
 ],
 "metadata": {
  "kernelspec": {
   "display_name": "Julia 0.5.0-dev",
   "language": "julia",
   "name": "julia-0.5"
  },
  "language_info": {
   "file_extension": ".jl",
   "mimetype": "application/julia",
   "name": "julia",
   "version": "0.5.0"
  }
 },
 "nbformat": 4,
 "nbformat_minor": 0
}
