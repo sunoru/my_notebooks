{
 "cells": [
  {
   "cell_type": "code",
   "execution_count": 2,
   "metadata": {
    "collapsed": false
   },
   "outputs": [
    {
     "data": {
      "text/plain": [
       "Test Passed\n",
       "  Expression: doubly_declared_floor(4.2) ≈ 4.0\n",
       "   Evaluated: 4.0 isapprox 4.0"
      ]
     },
     "execution_count": 2,
     "metadata": {},
     "output_type": "execute_result"
    },
    {
     "name": "stderr",
     "output_type": "stream",
     "text": [
      "WARNING: Base.writemime is deprecated.\n",
      "  likely near /opt/julia_packages/.julia/v0.5/IJulia/src/kernel.jl:31\n",
      "WARNING: Base.writemime is deprecated.\n",
      "  likely near /opt/julia_packages/.julia/v0.5/IJulia/src/kernel.jl:31\n",
      "WARNING: Base.writemime is deprecated.\n",
      "  likely near /opt/julia_packages/.julia/v0.5/IJulia/src/kernel.jl:31\n",
      "WARNING: Base.writemime is deprecated.\n",
      "  likely near /opt/julia_packages/.julia/v0.5/IJulia/src/kernel.jl:31\n",
      "WARNING: Base.writemime is deprecated.\n",
      "  likely near /opt/julia_packages/.julia/v0.5/IJulia/src/kernel.jl:31\n",
      "in display_dict at /opt/julia_packages/.julia/v0.5/IJulia/src/execute_request.jl\n"
     ]
    }
   ],
   "source": [
    "using Base.llvmcall\n",
    "using Base.Test\n",
    "function doubly_declared_floor(x::Float64)\n",
    "    llvmcall(\n",
    "        (\"\"\"declare double @llvm.floor.f64(double)\"\"\",\n",
    "         \"\"\"%2 = call double @llvm.floor.f64(double %0)\n",
    "            ret double %2\"\"\"),\n",
    "    Float64, Tuple{Float64}, x+1)-1\n",
    "end\n",
    "@test doubly_declared_floor(4.2) ≈ 4."
   ]
  },
  {
   "cell_type": "code",
   "execution_count": null,
   "metadata": {
    "collapsed": false
   },
   "outputs": [],
   "source": [
    "function foo(x::UInt32)\n",
    "    llvmcall((\"\"\"declare i32 @llvm.x86.aesni.aeskeygenassist(i32, i32)\"\"\",\"\"\"\n",
    "        %2 = call i32 @llvm.x86.aesni.aeskeygenassist(i32 %0, i32 1)\n",
    "        ret i32 %2\"\"\"), UInt32, Tuple{UInt32}, x)\n",
    "end\n",
    "\n",
    "x = UInt32(1)\n",
    "\n",
    "println(foo(x))"
   ]
  },
  {
   "cell_type": "code",
   "execution_count": null,
   "metadata": {
    "collapsed": true
   },
   "outputs": [],
   "source": []
  }
 ],
 "metadata": {
  "kernelspec": {
   "display_name": "Julia 0.5.0-dev",
   "language": "julia",
   "name": "julia-0.5"
  },
  "language_info": {
   "file_extension": ".jl",
   "mimetype": "application/julia",
   "name": "julia",
   "version": "0.5.0"
  }
 },
 "nbformat": 4,
 "nbformat_minor": 0
}
