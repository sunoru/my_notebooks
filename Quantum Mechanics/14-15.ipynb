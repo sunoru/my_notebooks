{
 "cells": [
  {
   "cell_type": "markdown",
   "metadata": {},
   "source": [
    "一（4*10分）\n",
    "\n",
    "1.某力学量L有完备的本征态φ1、φ2，则此量子态的一般表达形式是？测量力学量L可得的结果有哪些？量子力学对此力学量测量得预言是什么？物理依据是什么？"
   ]
  },
  {
   "cell_type": "markdown",
   "metadata": {
    "collapsed": true
   },
   "source": [
    "2.粒子入射两个一维有限势垒，E0为粒子能量，V0为势垒能量。图一E>V0，图二E<V0。说出量子力学情况下这两种入射可能会发生的物理结果，写出大致计算步骤，无需解出。\n",
    "\n",
    "3.写出N个粒子的薛定谔方程，如果这N个粒子是全同粒子，指出方程中的哈密顿量和波函数的性质，要求就费米子和玻色子分开来讨论。\n",
    "\n",
    "4.两个全同粒子，空间本征波函数族为{ψn}，自旋本征态为{Χ↑，Χ↓}，分别写出Bose子和Fermi子情况下的波函数。\n",
    "\n",
    "二（15分）\n",
    "\n",
    "1.求力学量ASx+BSz的本征值和本征矢，Sx=ℏ·σx/2，Sz=ℏ·σz/2。\n",
    "\n",
    "2.求在ASx+BSz本征态下求Sx测量值为-ℏ/2的几率。\n",
    "\n",
    "三（15分）\n",
    "\n",
    "一个三能级系统，有H0 ψ1= 0，H0 ψ2 = ℏωψ2，H0ψ3= 2ℏωψ3。\n",
    "1. 求出在H0 表象下ψ1、ψ2、ψ3的具体表达式。\n",
    "\n",
    "2. 有微扰H′，H0=H+λH′。求出在H0 表象下微扰H′ 的矩阵元，并给出微扰成立条件和物理性质。\n",
    "\n",
    "四（15分）\n",
    "\n",
    "斯特恩盖拉赫实验里面测到z方向电子自旋是-ℏ/2，t=0时候加了一个x方向磁场，给出了此时的哈密顿算符H=（eB/uc）Sx。\n",
    "\n",
    "1.T时间后测z方向自旋如何？\n",
    "\n",
    "2.如果在t时刻测x方向的自旋，测出来结果会如何。\n",
    "\n",
    "五（15分）\n",
    "\n",
    "1.一个哈密顿算符H=L^2/2I，I是转动惯量。要求选出一个三维体系的CSCO，并求其共同本征态、能谱和简并度。\n",
    "\n",
    "2.求出在微扰H′=Asin2φ下，基态和第一激发态的能级(近似到一阶)和波函数(近似到零阶)的修正。\n",
    "给出了球函数Y00、Y10、Y1+-1、Y20"
   ]
  }
 ],
 "metadata": {
  "kernelspec": {
   "display_name": "Python 3",
   "language": "python",
   "name": "python3"
  },
  "language_info": {
   "codemirror_mode": {
    "name": "ipython",
    "version": 3
   },
   "file_extension": ".py",
   "mimetype": "text/x-python",
   "name": "python",
   "nbconvert_exporter": "python",
   "pygments_lexer": "ipython3",
   "version": "3.4.3"
  }
 },
 "nbformat": 4,
 "nbformat_minor": 0
}
