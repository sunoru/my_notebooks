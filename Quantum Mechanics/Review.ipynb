{
 "cells": [
  {
   "cell_type": "markdown",
   "metadata": {},
   "source": [
    "### Schrödinger Equation\n",
    "\n",
    "$i\\hbar\\frac{\\partial}{\\partial t}\\psi = -\\frac{\\hbar^2}{2m}\\nabla^2\\psi+V(\\mathbf{r})\\psi$"
   ]
  },
  {
   "cell_type": "markdown",
   "metadata": {},
   "source": [
    "#### One-Dimensional Motion\n",
    "\n",
    "${\\psi}''+\\frac{2m}{\\hbar^2}[E-V(x)]\\psi=0$"
   ]
  },
  {
   "cell_type": "markdown",
   "metadata": {},
   "source": [
    "#### Plane Wave\n",
    "\n",
    "$e^{ikx}->e^{i(kx-\\omega t)}$"
   ]
  },
  {
   "cell_type": "code",
   "execution_count": null,
   "metadata": {
    "collapsed": true
   },
   "outputs": [],
   "source": []
  }
 ],
 "metadata": {
  "kernelspec": {
   "display_name": "Python 3",
   "language": "python",
   "name": "python3"
  },
  "language_info": {
   "codemirror_mode": {
    "name": "ipython",
    "version": 3
   },
   "file_extension": ".py",
   "mimetype": "text/x-python",
   "name": "python",
   "nbconvert_exporter": "python",
   "pygments_lexer": "ipython3",
   "version": "3.4.3"
  }
 },
 "nbformat": 4,
 "nbformat_minor": 0
}
